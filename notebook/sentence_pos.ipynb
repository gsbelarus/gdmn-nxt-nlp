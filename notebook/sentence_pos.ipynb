{
 "cells": [
  {
   "cell_type": "code",
   "execution_count": 23,
   "id": "676ec0db",
   "metadata": {},
   "outputs": [],
   "source": [
    "import spacy\n",
    "import benepar\n",
    "from spacy.language import Language\n",
    "from spacy_langdetect import LanguageDetector"
   ]
  },
  {
   "cell_type": "code",
   "execution_count": 24,
   "id": "b7bac732",
   "metadata": {},
   "outputs": [],
   "source": [
    "nlp = spacy.load(\"en_core_web_trf\")"
   ]
  },
  {
   "cell_type": "code",
   "execution_count": 25,
   "id": "789491d9",
   "metadata": {},
   "outputs": [],
   "source": [
    "# Add LanguageDetector and assign it a string name\n",
    "@Language.factory(\"language_detector\")\n",
    "def create_language_detector(nlp, name):\n",
    "    return LanguageDetector(language_detection_function=None)"
   ]
  },
  {
   "cell_type": "code",
   "execution_count": 26,
   "id": "353fc98b",
   "metadata": {},
   "outputs": [
    {
     "data": {
      "text/plain": [
       "<spacy_langdetect.spacy_langdetect.LanguageDetector at 0x2590c878d60>"
      ]
     },
     "execution_count": 26,
     "metadata": {},
     "output_type": "execute_result"
    }
   ],
   "source": [
    "nlp.add_pipe(\"language_detector\")"
   ]
  },
  {
   "cell_type": "code",
   "execution_count": 27,
   "id": "f3af25f3",
   "metadata": {},
   "outputs": [
    {
     "name": "stderr",
     "output_type": "stream",
     "text": [
      "[nltk_data] Downloading package benepar_en3_large to\n",
      "[nltk_data]     C:\\Users\\gs199\\AppData\\Roaming\\nltk_data...\n",
      "[nltk_data]   Package benepar_en3_large is already up-to-date!\n"
     ]
    },
    {
     "data": {
      "text/plain": [
       "True"
      ]
     },
     "execution_count": 27,
     "metadata": {},
     "output_type": "execute_result"
    }
   ],
   "source": [
    "benepar.download('benepar_en3_large')"
   ]
  },
  {
   "cell_type": "code",
   "execution_count": 28,
   "id": "e8c346d5",
   "metadata": {},
   "outputs": [
    {
     "data": {
      "text/plain": [
       "<benepar.integrations.spacy_plugin.BeneparComponent at 0x2590c879ea0>"
      ]
     },
     "execution_count": 28,
     "metadata": {},
     "output_type": "execute_result"
    }
   ],
   "source": [
    "nlp.add_pipe(\"benepar\", config={\"model\": \"benepar_en3\"})"
   ]
  },
  {
   "cell_type": "code",
   "execution_count": 29,
   "id": "ea44bc55",
   "metadata": {},
   "outputs": [],
   "source": [
    "doc = nlp(\"Apple is looking at buying U.K. startup for $1 billion\")"
   ]
  },
  {
   "cell_type": "code",
   "execution_count": 30,
   "id": "1db3d242",
   "metadata": {},
   "outputs": [
    {
     "name": "stdout",
     "output_type": "stream",
     "text": [
      "[('Apple', 'PROPN'), ('is', 'AUX'), ('looking', 'VERB'), ('at', 'ADP'), ('buying', 'VERB'), ('U.K.', 'PROPN'), ('startup', 'NOUN'), ('for', 'ADP'), ('$', 'SYM'), ('1', 'NUM'), ('billion', 'NUM')]\n"
     ]
    }
   ],
   "source": [
    "print([(w.text, w.pos_) for w in doc])"
   ]
  },
  {
   "cell_type": "code",
   "execution_count": 31,
   "id": "ef2d9508",
   "metadata": {},
   "outputs": [
    {
     "name": "stdout",
     "output_type": "stream",
     "text": [
      "Apple Apple PROPN NNP nsubj Xxxxx True False\n",
      "is be AUX VBZ aux xx True True\n",
      "looking look VERB VBG ROOT xxxx True False\n",
      "at at ADP IN prep xx True True\n",
      "buying buy VERB VBG pcomp xxxx True False\n",
      "U.K. U.K. PROPN NNP compound X.X. False False\n",
      "startup startup NOUN NN dobj xxxx True False\n",
      "for for ADP IN prep xxx True True\n",
      "$ $ SYM $ quantmod $ False False\n",
      "1 1 NUM CD compound d False False\n",
      "billion billion NUM CD pobj xxxx True False\n"
     ]
    }
   ],
   "source": [
    "for token in doc:\n",
    "    print(token.text, token.lemma_, token.pos_, token.tag_, token.dep_,\n",
    "            token.shape_, token.is_alpha, token.is_stop)"
   ]
  },
  {
   "cell_type": "code",
   "execution_count": 32,
   "id": "7b69438d",
   "metadata": {},
   "outputs": [
    {
     "name": "stdout",
     "output_type": "stream",
     "text": [
      "Apple {'Number': 'Sing'}\n",
      "is {'Mood': 'Ind', 'Number': 'Sing', 'Person': '3', 'Tense': 'Pres', 'VerbForm': 'Fin'}\n",
      "looking {'Aspect': 'Prog', 'Tense': 'Pres', 'VerbForm': 'Part'}\n",
      "at {}\n",
      "buying {'Aspect': 'Prog', 'Tense': 'Pres', 'VerbForm': 'Part'}\n",
      "U.K. {'Number': 'Sing'}\n",
      "startup {'Number': 'Sing'}\n",
      "for {}\n",
      "$ {}\n",
      "1 {'NumType': 'Card'}\n",
      "billion {'NumType': 'Card'}\n"
     ]
    }
   ],
   "source": [
    "for token in doc:\n",
    "    print(token.text, token.morph.to_dict())"
   ]
  },
  {
   "cell_type": "code",
   "execution_count": 33,
   "id": "048603f8",
   "metadata": {},
   "outputs": [
    {
     "name": "stdout",
     "output_type": "stream",
     "text": [
      "{'language': 'en', 'score': 0.9999958307002831}\n",
      "Apple is looking at buying U.K. startup for $1 billion {'language': 'en', 'score': 0.9999945819208242}\n"
     ]
    }
   ],
   "source": [
    "# document level language detection. Think of it like average language of the document!\n",
    "print(doc._.language)\n",
    "# sentence level language detection\n",
    "for sent in doc.sents:\n",
    "   print(sent, sent._.language)"
   ]
  },
  {
   "cell_type": "code",
   "execution_count": 34,
   "id": "66a20fa5",
   "metadata": {},
   "outputs": [
    {
     "name": "stdout",
     "output_type": "stream",
     "text": [
      "Apple nsubj looking {'Number': 'Sing'}\n",
      "is aux looking {'Mood': 'Ind', 'Number': 'Sing', 'Person': '3', 'Tense': 'Pres', 'VerbForm': 'Fin'}\n",
      "looking ROOT looking {'Aspect': 'Prog', 'Tense': 'Pres', 'VerbForm': 'Part'}\n",
      "at prep looking {}\n",
      "buying pcomp at {'Aspect': 'Prog', 'Tense': 'Pres', 'VerbForm': 'Part'}\n",
      "U.K. compound startup {'Number': 'Sing'}\n",
      "startup dobj buying {'Number': 'Sing'}\n",
      "for prep buying {}\n",
      "$ quantmod billion {}\n",
      "1 compound billion {'NumType': 'Card'}\n",
      "billion pobj for {'NumType': 'Card'}\n"
     ]
    }
   ],
   "source": [
    "for token in doc:\n",
    "    print(token.text, token.dep_, token.head.text, token.morph.to_dict())"
   ]
  },
  {
   "cell_type": "code",
   "execution_count": 35,
   "id": "fb6a9f4c",
   "metadata": {},
   "outputs": [
    {
     "name": "stdout",
     "output_type": "stream",
     "text": [
      "(S (NP (NNP Apple)) (VP (VBZ is) (VP (VBG looking) (PP (IN at) (S (VP (VBG buying) (NP (NNP U.K.) (NN startup)) (PP (IN for) (NP (QP ($ $) (CD 1) (CD billion))))))))))\n"
     ]
    },
    {
     "data": {
      "text/plain": [
       "Apple"
      ]
     },
     "execution_count": 35,
     "metadata": {},
     "output_type": "execute_result"
    }
   ],
   "source": [
    "sent = list(doc.sents)[0]\n",
    "print(sent._.parse_string)\n",
    "sent._.labels\n",
    "list(sent._.children)[0]"
   ]
  },
  {
   "cell_type": "code",
   "execution_count": 36,
   "id": "e5e81967",
   "metadata": {},
   "outputs": [],
   "source": [
    "nlp_ru = spacy.load(\"ru_core_news_lg\")"
   ]
  },
  {
   "cell_type": "code",
   "execution_count": 37,
   "id": "5854845c",
   "metadata": {},
   "outputs": [
    {
     "data": {
      "text/plain": [
       "<spacy_langdetect.spacy_langdetect.LanguageDetector at 0x25a13167130>"
      ]
     },
     "execution_count": 37,
     "metadata": {},
     "output_type": "execute_result"
    }
   ],
   "source": [
    "nlp_ru.add_pipe(\"language_detector\")"
   ]
  },
  {
   "cell_type": "code",
   "execution_count": 38,
   "id": "fc4d8850",
   "metadata": {},
   "outputs": [],
   "source": [
    "doc_ru = nlp_ru(\"Юрий хороший и быстрый программист из города Минска. Сегодня идет дождь.\")"
   ]
  },
  {
   "cell_type": "code",
   "execution_count": 39,
   "id": "daf157b1",
   "metadata": {},
   "outputs": [
    {
     "name": "stdout",
     "output_type": "stream",
     "text": [
      "[('Юрий', 'PROPN'), ('хороший', 'ADJ'), ('и', 'CCONJ'), ('быстрый', 'ADJ'), ('программист', 'NOUN'), ('из', 'ADP'), ('города', 'NOUN'), ('Минска', 'PROPN'), ('.', 'PUNCT'), ('Сегодня', 'ADV'), ('идет', 'VERB'), ('дождь', 'NOUN'), ('.', 'PUNCT')]\n"
     ]
    }
   ],
   "source": [
    "print([(w.text, w.pos_) for w in doc_ru])"
   ]
  },
  {
   "cell_type": "code",
   "execution_count": 45,
   "id": "1d7643e7",
   "metadata": {},
   "outputs": [
    {
     "name": "stdout",
     "output_type": "stream",
     "text": [
      "sent #1\n",
      "############################################################\n",
      "Юрий 0\n",
      "юрий PROPN PROPN Xxxx True False\n",
      "nsubj 4 программист 0\n",
      "[] [Юрий, хороший, города, .] []\n",
      "{'Animacy': 'Anim', 'Case': 'Nom', 'Gender': 'Masc', 'Number': 'Sing'}\n",
      "############################################################\n",
      "хороший 1\n",
      "хороший ADJ ADJ xxxx True False\n",
      "amod 4 программист 0\n",
      "[] [Юрий, хороший, города, .] []\n",
      "{'Case': 'Nom', 'Degree': 'Pos', 'Gender': 'Masc', 'Number': 'Sing'}\n",
      "############################################################\n",
      "и 2\n",
      "и CCONJ CCONJ x True True\n",
      "cc 3 быстрый 0\n",
      "[1, 4] [и] [хороший]\n",
      "{}\n",
      "############################################################\n",
      "быстрый 3\n",
      "быстрый ADJ ADJ xxxx True False\n",
      "conj 1 хороший 0\n",
      "[4] [быстрый] [быстрый]\n",
      "{'Case': 'Nom', 'Degree': 'Pos', 'Gender': 'Masc', 'Number': 'Sing'}\n",
      "############################################################\n",
      "программист 4\n",
      "программист NOUN NOUN xxxx True False\n",
      "ROOT 4 программист 0\n",
      "[] [Юрий, хороший, города, .] []\n",
      "{'Animacy': 'Anim', 'Case': 'Nom', 'Gender': 'Masc', 'Number': 'Sing'}\n",
      "############################################################\n",
      "из 5\n",
      "из ADP ADP xx True True\n",
      "case 6 города 0\n",
      "[4] [из, Минска] []\n",
      "{}\n",
      "############################################################\n",
      "города 6\n",
      "город NOUN NOUN xxxx True False\n",
      "nmod 4 программист 0\n",
      "[] [Юрий, хороший, города, .] []\n",
      "{'Animacy': 'Inan', 'Case': 'Gen', 'Gender': 'Masc', 'Number': 'Sing'}\n",
      "############################################################\n",
      "Минска 7\n",
      "минск PROPN PROPN Xxxxx True False\n",
      "appos 6 города 0\n",
      "[4] [из, Минска] []\n",
      "{'Animacy': 'Inan', 'Case': 'Gen', 'Gender': 'Masc', 'Number': 'Sing'}\n",
      "############################################################\n",
      ". 8\n",
      ". PUNCT PUNCT . False False\n",
      "punct 4 программист 0\n",
      "[] [Юрий, хороший, города, .] []\n",
      "{}\n",
      "sent #2\n",
      "############################################################\n",
      "Сегодня 9\n",
      "сегодня ADV ADV Xxxxx True False\n",
      "advmod 10 идет 0\n",
      "[] [Сегодня, дождь, .] []\n",
      "{'Degree': 'Pos'}\n",
      "############################################################\n",
      "идет 10\n",
      "идти VERB VERB xxxx True False\n",
      "ROOT 10 идет 0\n",
      "[] [Сегодня, дождь, .] []\n",
      "{'Aspect': 'Imp', 'Mood': 'Ind', 'Number': 'Sing', 'Person': 'Third', 'Tense': 'Pres', 'VerbForm': 'Fin', 'Voice': 'Act'}\n",
      "############################################################\n",
      "дождь 11\n",
      "дождь NOUN NOUN xxxx True False\n",
      "nsubj 10 идет 0\n",
      "[] [Сегодня, дождь, .] []\n",
      "{'Animacy': 'Inan', 'Case': 'Nom', 'Gender': 'Masc', 'Number': 'Sing'}\n",
      "############################################################\n",
      ". 12\n",
      ". PUNCT PUNCT . False False\n",
      "punct 10 идет 0\n",
      "[] [Сегодня, дождь, .] []\n",
      "{}\n"
     ]
    }
   ],
   "source": [
    "sent_n = 1\n",
    "for sent in doc_ru.sents:\n",
    "  print('sent #{}'.format(sent_n))\n",
    "  sent_n += 1        \n",
    "  for token in sent:\n",
    "      print('############################################################')\n",
    "      print(token.text, token.i)\n",
    "      print(token.lemma_, token.pos_, token.tag_, token.shape_, token.is_alpha, token.is_stop)\n",
    "      print(token.dep_, token.head.i, token.head.text, token.head.cluster)\n",
    "      print([an.i for an in token.head.ancestors], [child for child in list(token.head.children)], list(token.head.conjuncts))\n",
    "      print(token.morph.to_dict())        "
   ]
  },
  {
   "cell_type": "code",
   "execution_count": 41,
   "id": "96087908",
   "metadata": {},
   "outputs": [
    {
     "name": "stdout",
     "output_type": "stream",
     "text": [
      "Юрий nsubj программист {'Animacy': 'Anim', 'Case': 'Nom', 'Gender': 'Masc', 'Number': 'Sing'}\n",
      "хороший amod программист {'Case': 'Nom', 'Degree': 'Pos', 'Gender': 'Masc', 'Number': 'Sing'}\n",
      "и cc быстрый {}\n",
      "быстрый conj хороший {'Case': 'Nom', 'Degree': 'Pos', 'Gender': 'Masc', 'Number': 'Sing'}\n",
      "программист ROOT программист {'Animacy': 'Anim', 'Case': 'Nom', 'Gender': 'Masc', 'Number': 'Sing'}\n",
      "из case города {}\n",
      "города nmod программист {'Animacy': 'Inan', 'Case': 'Gen', 'Gender': 'Masc', 'Number': 'Sing'}\n",
      "Минска appos города {'Animacy': 'Inan', 'Case': 'Gen', 'Gender': 'Masc', 'Number': 'Sing'}\n",
      ". punct программист {}\n",
      "Сегодня advmod идет {'Degree': 'Pos'}\n",
      "идет ROOT идет {'Aspect': 'Imp', 'Mood': 'Ind', 'Number': 'Sing', 'Person': 'Third', 'Tense': 'Pres', 'VerbForm': 'Fin', 'Voice': 'Act'}\n",
      "дождь nsubj идет {'Animacy': 'Inan', 'Case': 'Nom', 'Gender': 'Masc', 'Number': 'Sing'}\n",
      ". punct идет {}\n"
     ]
    }
   ],
   "source": [
    "for token in doc_ru:\n",
    "    print(token.text, token.dep_, token.head.text, token.morph.to_dict())"
   ]
  },
  {
   "cell_type": "code",
   "execution_count": 42,
   "id": "e9765fed",
   "metadata": {},
   "outputs": [
    {
     "name": "stdout",
     "output_type": "stream",
     "text": [
      "{'language': 'ru', 'score': 0.9999974726520381}\n",
      "Юрий хороший и быстрый программист из города Минска. {'language': 'ru', 'score': 0.9999977042411683}\n",
      "Сегодня идет дождь. {'language': 'ru', 'score': 0.9999969421773983}\n"
     ]
    }
   ],
   "source": [
    "# document level language detection. Think of it like average language of the document!\n",
    "print(doc_ru._.language)\n",
    "# sentence level language detection\n",
    "for sent in doc_ru.sents:\n",
    "   print(sent, sent._.language)"
   ]
  },
  {
   "cell_type": "code",
   "execution_count": 43,
   "id": "69b7e316",
   "metadata": {},
   "outputs": [],
   "source": [
    "doc2 = nlp(\"Apple is looking at buying U.K. startup for $1 billion. Это предложение не на английском. Третье предложение.\")"
   ]
  },
  {
   "cell_type": "code",
   "execution_count": 44,
   "id": "c5ed37ba",
   "metadata": {},
   "outputs": [
    {
     "name": "stdout",
     "output_type": "stream",
     "text": [
      "{'language': 'bg', 'score': 0.8571378300637023}\n",
      "Apple is looking at buying U.K. startup for $1 billion. Это предложение не на английском. Третье предложение. {'language': 'bg', 'score': 0.9999952002347805}\n"
     ]
    }
   ],
   "source": [
    "# document level language detection. Think of it like average language of the document!\n",
    "print(doc2._.language)\n",
    "# sentence level language detection\n",
    "for sent in doc2.sents:\n",
    "   print(sent, sent._.language)"
   ]
  }
 ],
 "metadata": {
  "kernelspec": {
   "display_name": "Python 3 (ipykernel)",
   "language": "python",
   "name": "python3"
  },
  "language_info": {
   "codemirror_mode": {
    "name": "ipython",
    "version": 3
   },
   "file_extension": ".py",
   "mimetype": "text/x-python",
   "name": "python",
   "nbconvert_exporter": "python",
   "pygments_lexer": "ipython3",
   "version": "3.10.4"
  }
 },
 "nbformat": 4,
 "nbformat_minor": 5
}
