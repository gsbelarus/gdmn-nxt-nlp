{
 "cells": [
  {
   "cell_type": "code",
   "execution_count": 1,
   "metadata": {},
   "outputs": [
    {
     "name": "stderr",
     "output_type": "stream",
     "text": [
      "Some weights of the model checkpoint at joeddav/xlm-roberta-large-xnli were not used when initializing XLMRobertaForSequenceClassification: ['roberta.pooler.dense.weight', 'roberta.pooler.dense.bias']\n",
      "- This IS expected if you are initializing XLMRobertaForSequenceClassification from the checkpoint of a model trained on another task or with another architecture (e.g. initializing a BertForSequenceClassification model from a BertForPreTraining model).\n",
      "- This IS NOT expected if you are initializing XLMRobertaForSequenceClassification from the checkpoint of a model that you expect to be exactly identical (initializing a BertForSequenceClassification model from a BertForSequenceClassification model).\n"
     ]
    }
   ],
   "source": [
    "from transformers import pipeline\n",
    "classifier = pipeline(\"zero-shot-classification\",\n",
    "                      model=\"joeddav/xlm-roberta-large-xnli\")"
   ]
  },
  {
   "cell_type": "code",
   "execution_count": 2,
   "metadata": {},
   "outputs": [
    {
     "data": {
      "text/plain": [
       "{'sequence': 'Покажи организации из Минска и Пинска в таблице',\n",
       " 'labels': ['show', 'insert', 'select', 'update', 'delete'],\n",
       " 'scores': [0.8313274383544922,\n",
       "  0.08516856282949448,\n",
       "  0.04037373512983322,\n",
       "  0.024764183908700943,\n",
       "  0.01836603693664074]}"
      ]
     },
     "execution_count": 2,
     "metadata": {},
     "output_type": "execute_result"
    }
   ],
   "source": [
    "sequence_to_classify = \"Покажи организации из Минска и Пинска в таблице\"\n",
    "candidate_labels = [\"show\", \"update\", \"insert\", \"delete\", \"select\"]\n",
    "classifier(sequence_to_classify, candidate_labels)"
   ]
  },
  {
   "cell_type": "code",
   "execution_count": 3,
   "metadata": {},
   "outputs": [
    {
     "data": {
      "text/plain": [
       "{'sequence': 'Организация, компания, предприятие',\n",
       " 'labels': ['учреждение',\n",
       "  'фирма',\n",
       "  'компания',\n",
       "  'организация',\n",
       "  'больница',\n",
       "  'банк',\n",
       "  'яблоко',\n",
       "  'школа'],\n",
       " 'scores': [0.29276254773139954,\n",
       "  0.261516809463501,\n",
       "  0.2452482283115387,\n",
       "  0.1912582516670227,\n",
       "  0.002929908223450184,\n",
       "  0.0021317722275853157,\n",
       "  0.0021091506350785494,\n",
       "  0.0020433180034160614]}"
      ]
     },
     "execution_count": 3,
     "metadata": {},
     "output_type": "execute_result"
    }
   ],
   "source": [
    "sequence_to_classify = \"Организация, компания, предприятие\"\n",
    "candidate_labels = [\"организация\", \"компания\", \"учреждение\", \"банк\", \"фирма\", \"школа\", \"больница\", \"яблоко\"]\n",
    "classifier(sequence_to_classify, candidate_labels)"
   ]
  }
 ],
 "metadata": {
  "interpreter": {
   "hash": "369f2c481f4da34e4445cda3fffd2e751bd1c4d706f27375911949ba6bb62e1c"
  },
  "kernelspec": {
   "display_name": "Python 3.10.4 64-bit",
   "language": "python",
   "name": "python3"
  },
  "language_info": {
   "codemirror_mode": {
    "name": "ipython",
    "version": 3
   },
   "file_extension": ".py",
   "mimetype": "text/x-python",
   "name": "python",
   "nbconvert_exporter": "python",
   "pygments_lexer": "ipython3",
   "version": "3.10.4"
  },
  "orig_nbformat": 4
 },
 "nbformat": 4,
 "nbformat_minor": 2
}
