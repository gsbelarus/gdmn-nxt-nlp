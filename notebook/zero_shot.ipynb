{
 "cells": [
  {
   "cell_type": "code",
   "execution_count": 1,
   "metadata": {},
   "outputs": [
    {
     "name": "stderr",
     "output_type": "stream",
     "text": [
      "Some weights of the model checkpoint at joeddav/xlm-roberta-large-xnli were not used when initializing XLMRobertaForSequenceClassification: ['roberta.pooler.dense.bias', 'roberta.pooler.dense.weight']\n",
      "- This IS expected if you are initializing XLMRobertaForSequenceClassification from the checkpoint of a model trained on another task or with another architecture (e.g. initializing a BertForSequenceClassification model from a BertForPreTraining model).\n",
      "- This IS NOT expected if you are initializing XLMRobertaForSequenceClassification from the checkpoint of a model that you expect to be exactly identical (initializing a BertForSequenceClassification model from a BertForSequenceClassification model).\n"
     ]
    }
   ],
   "source": [
    "from transformers import pipeline\n",
    "classifier = pipeline(\"zero-shot-classification\",\n",
    "                      model=\"joeddav/xlm-roberta-large-xnli\")"
   ]
  },
  {
   "cell_type": "code",
   "execution_count": 2,
   "metadata": {},
   "outputs": [
    {
     "data": {
      "text/plain": [
       "{'sequence': 'Покажи организации из Минска и Пинска в таблице',\n",
       " 'labels': ['show', 'insert', 'select', 'update', 'delete'],\n",
       " 'scores': [0.8313274383544922,\n",
       "  0.08516856282949448,\n",
       "  0.04037373512983322,\n",
       "  0.024764183908700943,\n",
       "  0.01836603693664074]}"
      ]
     },
     "execution_count": 2,
     "metadata": {},
     "output_type": "execute_result"
    }
   ],
   "source": [
    "sequence_to_classify = \"Покажи организации из Минска и Пинска в таблице\"\n",
    "candidate_labels = [\"show\", \"update\", \"insert\", \"delete\", \"select\"]\n",
    "classifier(sequence_to_classify, candidate_labels)"
   ]
  },
  {
   "cell_type": "code",
   "execution_count": 5,
   "metadata": {},
   "outputs": [
    {
     "data": {
      "text/plain": [
       "{'sequence': 'organization',\n",
       " 'labels': ['учреждение',\n",
       "  'компания',\n",
       "  'фирма',\n",
       "  'организация',\n",
       "  'школа',\n",
       "  'больница',\n",
       "  'банк',\n",
       "  'яблоко'],\n",
       " 'scores': [0.3754544258117676,\n",
       "  0.29109543561935425,\n",
       "  0.22845444083213806,\n",
       "  0.1020682156085968,\n",
       "  0.0008450217428617179,\n",
       "  0.0008174126269295812,\n",
       "  0.0007593734189867973,\n",
       "  0.0005056780646555126]}"
      ]
     },
     "execution_count": 5,
     "metadata": {},
     "output_type": "execute_result"
    }
   ],
   "source": [
    "sequence_to_classify = \"organization\"\n",
    "candidate_labels = [\"организация\", \"компания\", \"учреждение\", \"банк\", \"фирма\", \"школа\", \"больница\", \"яблоко\"]\n",
    "classifier(sequence_to_classify, candidate_labels)"
   ]
  }
 ],
 "metadata": {
  "interpreter": {
   "hash": "369f2c481f4da34e4445cda3fffd2e751bd1c4d706f27375911949ba6bb62e1c"
  },
  "kernelspec": {
   "display_name": "Python 3.10.4 64-bit",
   "language": "python",
   "name": "python3"
  },
  "language_info": {
   "codemirror_mode": {
    "name": "ipython",
    "version": 3
   },
   "file_extension": ".py",
   "mimetype": "text/x-python",
   "name": "python",
   "nbconvert_exporter": "python",
   "pygments_lexer": "ipython3",
   "version": "3.10.4"
  },
  "orig_nbformat": 4
 },
 "nbformat": 4,
 "nbformat_minor": 2
}
